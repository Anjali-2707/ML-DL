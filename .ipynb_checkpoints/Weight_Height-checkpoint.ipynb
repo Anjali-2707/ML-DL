{
 "cells": [
  {
   "cell_type": "code",
   "execution_count": null,
   "id": "e4397034",
   "metadata": {},
   "outputs": [],
   "source": [
    "import pandas"
   ]
  },
  {
   "cell_type": "code",
   "execution_count": null,
   "id": "35cca064",
   "metadata": {},
   "outputs": [],
   "source": [
    "db = pandas.read_csv(\"wt-ht.csv\")"
   ]
  },
  {
   "cell_type": "code",
   "execution_count": null,
   "id": "74ed7160",
   "metadata": {},
   "outputs": [],
   "source": [
    "y = db['Weight']"
   ]
  },
  {
   "cell_type": "code",
   "execution_count": null,
   "id": "b7a5733f",
   "metadata": {},
   "outputs": [],
   "source": [
    "X = db['Height']"
   ]
  },
  {
   "cell_type": "code",
   "execution_count": null,
   "id": "db8711b8",
   "metadata": {},
   "outputs": [],
   "source": [
    "X.shape"
   ]
  },
  {
   "cell_type": "code",
   "execution_count": null,
   "id": "1c7a2399",
   "metadata": {},
   "outputs": [],
   "source": [
    "from keras.models import Sequential#keras lib is used in NN"
   ]
  },
  {
   "cell_type": "code",
   "execution_count": null,
   "id": "3ca68815",
   "metadata": {},
   "outputs": [],
   "source": [
    "model = Sequential()"
   ]
  },
  {
   "cell_type": "code",
   "execution_count": null,
   "id": "d180f89b",
   "metadata": {},
   "outputs": [],
   "source": [
    "model #means we have applied a sequential function to the model"
   ]
  },
  {
   "cell_type": "code",
   "execution_count": null,
   "id": "33d4c61d",
   "metadata": {},
   "outputs": [],
   "source": [
    "from keras.layers import Dense#import dense function/module from keras lib to create layers"
   ]
  },
  {
   "cell_type": "code",
   "execution_count": null,
   "id": "4322240b",
   "metadata": {},
   "outputs": [],
   "source": [
    "Dense(units = 1,activation=\"linear\",input_shape=(1,))#to create the layer"
   ]
  },
  {
   "cell_type": "code",
   "execution_count": null,
   "id": "11a19b60",
   "metadata": {},
   "outputs": [],
   "source": [
    "model.add(Dense(units = 1,activation=\"linear\",input_shape=(1,)))#to add 1 layer to model"
   ]
  },
  {
   "cell_type": "code",
   "execution_count": null,
   "id": "5faa797b",
   "metadata": {},
   "outputs": [],
   "source": [
    "model.add(Dense(bias_initializer = 'zeros',kernel_initializer = 'zeros',units = 1,activation=\"linear\",input_shape=(1,)))"
   ]
  },
  {
   "cell_type": "code",
   "execution_count": null,
   "id": "b6721820",
   "metadata": {},
   "outputs": [],
   "source": [
    "model.get_config()"
   ]
  },
  {
   "cell_type": "code",
   "execution_count": null,
   "id": "768e1372",
   "metadata": {},
   "outputs": [],
   "source": [
    "from keras.optimizers import Adam"
   ]
  },
  {
   "cell_type": "code",
   "execution_count": null,
   "id": "10908076",
   "metadata": {},
   "outputs": [],
   "source": [
    "model.compile(optimizer=Adam(),loss='mean_squared_error')"
   ]
  },
  {
   "cell_type": "code",
   "execution_count": null,
   "id": "709975d9",
   "metadata": {},
   "outputs": [],
   "source": [
    "model.fit(X,y)"
   ]
  },
  {
   "cell_type": "code",
   "execution_count": null,
   "id": "126d23a5",
   "metadata": {},
   "outputs": [],
   "source": [
    "model.predict([100])"
   ]
  },
  {
   "cell_type": "code",
   "execution_count": null,
   "id": "061ba925",
   "metadata": {},
   "outputs": [],
   "source": [
    "model.save('myhw.h5')"
   ]
  },
  {
   "cell_type": "code",
   "execution_count": null,
   "id": "4165d123",
   "metadata": {},
   "outputs": [],
   "source": [
    "model.get_layer(\"dense_3\").input"
   ]
  },
  {
   "cell_type": "code",
   "execution_count": null,
   "id": "572bbfb8",
   "metadata": {},
   "outputs": [],
   "source": [
    "model.get_layer(\"dense_3\").output"
   ]
  }
 ],
 "metadata": {
  "kernelspec": {
   "display_name": "Python 3",
   "language": "python",
   "name": "python3"
  },
  "language_info": {
   "codemirror_mode": {
    "name": "ipython",
    "version": 3
   },
   "file_extension": ".py",
   "mimetype": "text/x-python",
   "name": "python",
   "nbconvert_exporter": "python",
   "pygments_lexer": "ipython3",
   "version": "3.8.8"
  }
 },
 "nbformat": 4,
 "nbformat_minor": 5
}
