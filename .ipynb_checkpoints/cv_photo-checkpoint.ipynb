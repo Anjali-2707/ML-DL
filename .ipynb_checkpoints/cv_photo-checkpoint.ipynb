{
 "cells": [
  {
   "cell_type": "code",
   "execution_count": 1,
   "id": "e9fccb76",
   "metadata": {},
   "outputs": [],
   "source": [
    "import cv2 #cv2 is a module of opencv library,in cmd pip install opencv.python to download cv2 module"
   ]
  },
  {
   "cell_type": "code",
   "execution_count": 2,
   "id": "feed0adb",
   "metadata": {},
   "outputs": [],
   "source": [
    "cap = cv2.VideoCapture(0)#0 becoz internal camera , 1 for external web cam"
   ]
  },
  {
   "cell_type": "code",
   "execution_count": 8,
   "id": "63eae944",
   "metadata": {},
   "outputs": [],
   "source": [
    "cap.read()#to switch on camera "
   ]
  },
  {
   "cell_type": "code",
   "execution_count": 4,
   "id": "50b6b1f2",
   "metadata": {},
   "outputs": [],
   "source": [
    "ret,photo = cap.read()#it clicks the picture"
   ]
  },
  {
   "cell_type": "code",
   "execution_count": 5,
   "id": "c7759d84",
   "metadata": {},
   "outputs": [
    {
     "data": {
      "text/plain": [
       "False"
      ]
     },
     "execution_count": 5,
     "metadata": {},
     "output_type": "execute_result"
    }
   ],
   "source": [
    "ret#return is true means photo is clicked,false means not clicked"
   ]
  },
  {
   "cell_type": "code",
   "execution_count": 6,
   "id": "eee83065",
   "metadata": {},
   "outputs": [],
   "source": [
    "photo#detail of photo"
   ]
  },
  {
   "cell_type": "code",
   "execution_count": 7,
   "id": "9d8af15e",
   "metadata": {},
   "outputs": [
    {
     "ename": "error",
     "evalue": "OpenCV(4.5.2) C:\\Users\\runneradmin\\AppData\\Local\\Temp\\pip-req-build-vi271kac\\opencv\\modules\\imgcodecs\\src\\loadsave.cpp:721: error: (-215:Assertion failed) !_img.empty() in function 'cv::imwrite'\n",
     "output_type": "error",
     "traceback": [
      "\u001b[1;31m---------------------------------------------------------------------------\u001b[0m",
      "\u001b[1;31merror\u001b[0m                                     Traceback (most recent call last)",
      "\u001b[1;32m<ipython-input-7-e22939b69d92>\u001b[0m in \u001b[0;36m<module>\u001b[1;34m\u001b[0m\n\u001b[1;32m----> 1\u001b[1;33m \u001b[0mcv2\u001b[0m\u001b[1;33m.\u001b[0m\u001b[0mimwrite\u001b[0m\u001b[1;33m(\u001b[0m\u001b[1;34m\"my.jpg\"\u001b[0m\u001b[1;33m,\u001b[0m\u001b[0mphoto\u001b[0m\u001b[1;33m)\u001b[0m\u001b[1;31m#to write photo in jpg format\u001b[0m\u001b[1;33m\u001b[0m\u001b[1;33m\u001b[0m\u001b[0m\n\u001b[0m",
      "\u001b[1;31merror\u001b[0m: OpenCV(4.5.2) C:\\Users\\runneradmin\\AppData\\Local\\Temp\\pip-req-build-vi271kac\\opencv\\modules\\imgcodecs\\src\\loadsave.cpp:721: error: (-215:Assertion failed) !_img.empty() in function 'cv::imwrite'\n"
     ]
    }
   ],
   "source": [
    "cv2.imwrite(\"my.jpg\",photo)#to write photo in jpg format"
   ]
  },
  {
   "cell_type": "code",
   "execution_count": null,
   "id": "2fffd28b",
   "metadata": {},
   "outputs": [],
   "source": [
    "cv2.imshow(\"my photo\",photo)#to show photo\n",
    "cv2.waitKey(10000)    #to hold it so bigger the value, longer it will hold\n",
    "cv2.destroyAllWindows()#photo window will be destroy automatically"
   ]
  },
  {
   "cell_type": "code",
   "execution_count": 9,
   "id": "6200f74a",
   "metadata": {},
   "outputs": [],
   "source": [
    "cap.release()#to switch off the camera"
   ]
  },
  {
   "cell_type": "code",
   "execution_count": null,
   "id": "ffe6aa1e",
   "metadata": {},
   "outputs": [],
   "source": []
  }
 ],
 "metadata": {
  "kernelspec": {
   "display_name": "Python 3",
   "language": "python",
   "name": "python3"
  },
  "language_info": {
   "codemirror_mode": {
    "name": "ipython",
    "version": 3
   },
   "file_extension": ".py",
   "mimetype": "text/x-python",
   "name": "python",
   "nbconvert_exporter": "python",
   "pygments_lexer": "ipython3",
   "version": "3.8.8"
  }
 },
 "nbformat": 4,
 "nbformat_minor": 5
}
