{
 "cells": [
  {
   "cell_type": "code",
   "execution_count": null,
   "id": "18799d05",
   "metadata": {},
   "outputs": [],
   "source": [
    "import cv2"
   ]
  },
  {
   "cell_type": "code",
   "execution_count": null,
   "id": "e1a269a9",
   "metadata": {},
   "outputs": [],
   "source": [
    "cap = cv2.VideoCapture(0)"
   ]
  },
  {
   "cell_type": "code",
   "execution_count": null,
   "id": "22d3a90e",
   "metadata": {},
   "outputs": [],
   "source": [
    "cap.read()#to switch on the camera"
   ]
  },
  {
   "cell_type": "code",
   "execution_count": null,
   "id": "184c488e",
   "metadata": {},
   "outputs": [],
   "source": [
    "ret , photo = cap.read()#to capture pic"
   ]
  },
  {
   "cell_type": "code",
   "execution_count": null,
   "id": "1cf15f5f",
   "metadata": {},
   "outputs": [],
   "source": [
    "ret #true means it is taking"
   ]
  },
  {
   "cell_type": "code",
   "execution_count": null,
   "id": "99c7fcf7",
   "metadata": {},
   "outputs": [],
   "source": [
    "cv2.imwrite(\"anjali.jpg\",photo) #this is the name of the photo saved in the jpg format"
   ]
  },
  {
   "cell_type": "code",
   "execution_count": null,
   "id": "f6c8e6ca",
   "metadata": {},
   "outputs": [],
   "source": [
    "while True:\n",
    "    ret , photo = cap.read() #take photo\n",
    "    cv2.imshow(\"anjali photo\",photo)# show photo\n",
    "    if  cv2.waitKey(10) == 13: #show for this particular time, so loop runs\n",
    "        break #loop break again take photo\n",
    "    \n",
    "cv2.destroyAllWindows() #to close the window"
   ]
  },
  {
   "cell_type": "code",
   "execution_count": null,
   "id": "fbd0448e",
   "metadata": {},
   "outputs": [],
   "source": [
    "cphoto = photo[50:500,100:400]# ????????not done yet"
   ]
  },
  {
   "cell_type": "code",
   "execution_count": null,
   "id": "db269d68",
   "metadata": {},
   "outputs": [],
   "source": [
    "while True:\n",
    "    ret , photo = cap.read() #take photo\n",
    "    cv2.imshow(\"anjali photo\",cphoto)# show photo\n",
    "    if  cv2.waitKey(10) == 13: #show for this particular time, so loop runs\n",
    "        break #loop break again take photo\n",
    "    \n",
    "cv2.destroyAllWindows() #to close the window"
   ]
  },
  {
   "cell_type": "code",
   "execution_count": null,
   "id": "da87e510",
   "metadata": {},
   "outputs": [],
   "source": [
    "cap.release()# to release camera"
   ]
  }
 ],
 "metadata": {
  "kernelspec": {
   "display_name": "Python 3",
   "language": "python",
   "name": "python3"
  },
  "language_info": {
   "codemirror_mode": {
    "name": "ipython",
    "version": 3
   },
   "file_extension": ".py",
   "mimetype": "text/x-python",
   "name": "python",
   "nbconvert_exporter": "python",
   "pygments_lexer": "ipython3",
   "version": "3.8.8"
  }
 },
 "nbformat": 4,
 "nbformat_minor": 5
}
