{
 "cells": [
  {
   "cell_type": "code",
   "execution_count": 53,
   "id": "bbd46d4e",
   "metadata": {},
   "outputs": [],
   "source": [
    "import cv2"
   ]
  },
  {
   "cell_type": "code",
   "execution_count": 54,
   "id": "409ce483",
   "metadata": {},
   "outputs": [],
   "source": [
    "cap =cv2.VideoCapture(0)"
   ]
  },
  {
   "cell_type": "code",
   "execution_count": 55,
   "id": "0e5e075d",
   "metadata": {},
   "outputs": [
    {
     "data": {
      "text/plain": [
       "(True,\n",
       " array([[[19, 13, 11],\n",
       "         [16, 11, 17],\n",
       "         [11, 12, 26],\n",
       "         ...,\n",
       "         [ 0, 16, 16],\n",
       "         [ 0, 17, 19],\n",
       "         [ 0, 21, 22]],\n",
       " \n",
       "        [[20, 14, 12],\n",
       "         [12,  9, 15],\n",
       "         [ 3,  4, 18],\n",
       "         ...,\n",
       "         [ 0, 14, 15],\n",
       "         [ 0, 17, 17],\n",
       "         [ 0, 19, 19]],\n",
       " \n",
       "        [[20,  7, 34],\n",
       "         [13,  7, 28],\n",
       "         [ 9, 10, 25],\n",
       "         ...,\n",
       "         [ 2,  9, 28],\n",
       "         [ 5,  8, 44],\n",
       "         [ 5,  7, 46]],\n",
       " \n",
       "        ...,\n",
       " \n",
       "        [[14, 17, 16],\n",
       "         [15, 16, 16],\n",
       "         [15, 15, 15],\n",
       "         ...,\n",
       "         [13, 13, 17],\n",
       "         [13, 14, 21],\n",
       "         [13, 14, 21]],\n",
       " \n",
       "        [[11, 16, 15],\n",
       "         [13, 17, 16],\n",
       "         [12, 14, 14],\n",
       "         ...,\n",
       "         [ 8,  9, 11],\n",
       "         [13, 14, 19],\n",
       "         [13, 14, 19]],\n",
       " \n",
       "        [[12, 14, 25],\n",
       "         [11, 13, 25],\n",
       "         [13, 13, 24],\n",
       "         ...,\n",
       "         [20, 10, 10],\n",
       "         [15, 14, 21],\n",
       "         [14, 13, 21]]], dtype=uint8))"
      ]
     },
     "execution_count": 55,
     "metadata": {},
     "output_type": "execute_result"
    }
   ],
   "source": [
    "cap.read()"
   ]
  },
  {
   "cell_type": "code",
   "execution_count": 56,
   "id": "0662b2b8",
   "metadata": {},
   "outputs": [],
   "source": [
    "ret,photo =cap.read()"
   ]
  },
  {
   "cell_type": "code",
   "execution_count": 57,
   "id": "e0a04eec",
   "metadata": {},
   "outputs": [],
   "source": [
    "model = cv2.CascadeClassifier(cv2.data.haarcascades + 'haarcascade_frontalface_default.xml')"
   ]
  },
  {
   "cell_type": "code",
   "execution_count": 58,
   "id": "03160bf2",
   "metadata": {},
   "outputs": [
    {
     "data": {
      "text/plain": [
       "<CascadeClassifier 0000021735119550>"
      ]
     },
     "execution_count": 58,
     "metadata": {},
     "output_type": "execute_result"
    }
   ],
   "source": [
    "model"
   ]
  },
  {
   "cell_type": "code",
   "execution_count": 59,
   "id": "97e36008",
   "metadata": {},
   "outputs": [],
   "source": [
    "faces=model.detectMultiScale(photo)"
   ]
  },
  {
   "cell_type": "code",
   "execution_count": 60,
   "id": "84e94478",
   "metadata": {},
   "outputs": [
    {
     "data": {
      "text/plain": [
       "array([[280, 122, 169, 169]], dtype=int32)"
      ]
     },
     "execution_count": 60,
     "metadata": {},
     "output_type": "execute_result"
    }
   ],
   "source": [
    "faces# 1 array means only 1 face is detected"
   ]
  },
  {
   "cell_type": "code",
   "execution_count": 61,
   "id": "d45e3cde",
   "metadata": {},
   "outputs": [
    {
     "data": {
      "text/plain": [
       "1"
      ]
     },
     "execution_count": 61,
     "metadata": {},
     "output_type": "execute_result"
    }
   ],
   "source": [
    "len(faces)#no. of faces"
   ]
  },
  {
   "cell_type": "code",
   "execution_count": 62,
   "id": "8b03cb61",
   "metadata": {},
   "outputs": [],
   "source": [
    "x1 = faces[0][0]"
   ]
  },
  {
   "cell_type": "code",
   "execution_count": 63,
   "id": "716e6225",
   "metadata": {},
   "outputs": [],
   "source": [
    "y1 = faces[0][1]"
   ]
  },
  {
   "cell_type": "code",
   "execution_count": 64,
   "id": "d947a031",
   "metadata": {},
   "outputs": [],
   "source": [
    "x2 = x1 + faces[0][2]"
   ]
  },
  {
   "cell_type": "code",
   "execution_count": 65,
   "id": "474b4492",
   "metadata": {},
   "outputs": [],
   "source": [
    "y2 = y1 + faces[0][3]"
   ]
  },
  {
   "cell_type": "code",
   "execution_count": 66,
   "id": "bc998b0e",
   "metadata": {},
   "outputs": [],
   "source": [
    "aphoto = cv2.rectangle(photo,(x1,y1),(x2,y2),(0,255,0),4)"
   ]
  },
  {
   "cell_type": "code",
   "execution_count": 68,
   "id": "23331510",
   "metadata": {},
   "outputs": [],
   "source": [
    "cv2.imshow(\"hi\",aphoto)\n",
    "cv2.waitKey(5000)\n",
    "cv2.destroyAllWindows()"
   ]
  },
  {
   "cell_type": "code",
   "execution_count": null,
   "id": "e90dc1f9",
   "metadata": {},
   "outputs": [],
   "source": []
  }
 ],
 "metadata": {
  "kernelspec": {
   "display_name": "Python 3",
   "language": "python",
   "name": "python3"
  },
  "language_info": {
   "codemirror_mode": {
    "name": "ipython",
    "version": 3
   },
   "file_extension": ".py",
   "mimetype": "text/x-python",
   "name": "python",
   "nbconvert_exporter": "python",
   "pygments_lexer": "ipython3",
   "version": "3.8.8"
  }
 },
 "nbformat": 4,
 "nbformat_minor": 5
}
