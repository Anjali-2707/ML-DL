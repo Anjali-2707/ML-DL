{
 "cells": [
  {
   "cell_type": "code",
   "execution_count": 35,
   "id": "e9fccb76",
   "metadata": {},
   "outputs": [],
   "source": [
    "import cv2 #cv2 is a module of opencv library,in cmd pip install opencv.python to download cv2 module"
   ]
  },
  {
   "cell_type": "code",
   "execution_count": 77,
   "id": "feed0adb",
   "metadata": {},
   "outputs": [],
   "source": [
    "cap = cv2.VideoCapture(0)#0 becoz internal camera , 1 for external web cam"
   ]
  },
  {
   "cell_type": "code",
   "execution_count": 78,
   "id": "63eae944",
   "metadata": {},
   "outputs": [
    {
     "data": {
      "text/plain": [
       "(True,\n",
       " array([[[28, 14, 15],\n",
       "         [28, 15, 12],\n",
       "         [28, 15, 10],\n",
       "         ...,\n",
       "         [13, 13, 22],\n",
       "         [10, 12, 21],\n",
       "         [10, 12, 21]],\n",
       " \n",
       "        [[29, 13, 12],\n",
       "         [28, 14, 13],\n",
       "         [26, 15, 13],\n",
       "         ...,\n",
       "         [11, 14, 21],\n",
       "         [10, 12, 21],\n",
       "         [11, 13, 23]],\n",
       " \n",
       "        [[29, 13, 12],\n",
       "         [28, 14, 13],\n",
       "         [26, 15, 13],\n",
       "         ...,\n",
       "         [11, 13, 19],\n",
       "         [10, 12, 21],\n",
       "         [11, 13, 23]],\n",
       " \n",
       "        ...,\n",
       " \n",
       "        [[12, 12, 10],\n",
       "         [10, 11,  9],\n",
       "         [13, 13, 11],\n",
       "         ...,\n",
       "         [ 8,  7,  5],\n",
       "         [11, 10,  8],\n",
       "         [12, 10,  8]],\n",
       " \n",
       "        [[13, 13, 13],\n",
       "         [11, 11, 11],\n",
       "         [11, 11, 11],\n",
       "         ...,\n",
       "         [ 9, 10,  7],\n",
       "         [11, 11,  9],\n",
       "         [ 9, 10,  8]],\n",
       " \n",
       "        [[ 6, 11, 11],\n",
       "         [10, 12, 12],\n",
       "         [11, 11, 11],\n",
       "         ...,\n",
       "         [ 8,  8,  8],\n",
       "         [ 8,  8,  8],\n",
       "         [ 8,  8,  8]]], dtype=uint8))"
      ]
     },
     "execution_count": 78,
     "metadata": {},
     "output_type": "execute_result"
    }
   ],
   "source": [
    "cap.read()#to switch on camera "
   ]
  },
  {
   "cell_type": "code",
   "execution_count": 93,
   "id": "50b6b1f2",
   "metadata": {},
   "outputs": [],
   "source": [
    "ret,photo = cap.read()#it clicks the picture"
   ]
  },
  {
   "cell_type": "code",
   "execution_count": 94,
   "id": "c7759d84",
   "metadata": {},
   "outputs": [
    {
     "data": {
      "text/plain": [
       "True"
      ]
     },
     "execution_count": 94,
     "metadata": {},
     "output_type": "execute_result"
    }
   ],
   "source": [
    "ret#return is true means photo is clicked,false means not clicked"
   ]
  },
  {
   "cell_type": "code",
   "execution_count": 45,
   "id": "eee83065",
   "metadata": {},
   "outputs": [
    {
     "data": {
      "text/plain": [
       "array([[[186, 156, 145],\n",
       "        [188, 156, 150],\n",
       "        [189, 155, 154],\n",
       "        ...,\n",
       "        [ 88, 112, 118],\n",
       "        [ 84, 112, 119],\n",
       "        [ 82, 110, 117]],\n",
       "\n",
       "       [[183, 156, 154],\n",
       "        [181, 154, 153],\n",
       "        [181, 155, 152],\n",
       "        ...,\n",
       "        [ 99, 111, 114],\n",
       "        [102, 110, 114],\n",
       "        [101, 109, 113]],\n",
       "\n",
       "       [[175, 155, 154],\n",
       "        [173, 153, 150],\n",
       "        [176, 157, 150],\n",
       "        ...,\n",
       "        [106, 111, 112],\n",
       "        [111, 111, 111],\n",
       "        [112, 112, 112]],\n",
       "\n",
       "       ...,\n",
       "\n",
       "       [[ 89,  88,  90],\n",
       "        [ 91,  91,  92],\n",
       "        [104, 104, 104],\n",
       "        ...,\n",
       "        [ 59,  69,  72],\n",
       "        [ 53,  68,  71],\n",
       "        [ 52,  68,  71]],\n",
       "\n",
       "       [[ 98,  97, 101],\n",
       "        [ 97,  96,  99],\n",
       "        [106, 105, 108],\n",
       "        ...,\n",
       "        [ 67,  69,  70],\n",
       "        [ 69,  69,  69],\n",
       "        [ 69,  69,  69]],\n",
       "\n",
       "       [[ 77,  74,  88],\n",
       "        [ 79,  78,  84],\n",
       "        [ 80,  80,  80],\n",
       "        ...,\n",
       "        [ 54,  69,  72],\n",
       "        [ 53,  71,  73],\n",
       "        [ 54,  72,  75]]], dtype=uint8)"
      ]
     },
     "execution_count": 45,
     "metadata": {},
     "output_type": "execute_result"
    }
   ],
   "source": [
    "photo#detail of photo"
   ]
  },
  {
   "cell_type": "code",
   "execution_count": 95,
   "id": "9d8af15e",
   "metadata": {},
   "outputs": [
    {
     "data": {
      "text/plain": [
       "True"
      ]
     },
     "execution_count": 95,
     "metadata": {},
     "output_type": "execute_result"
    }
   ],
   "source": [
    "cv2.imwrite(\"my.jpg\",photo)#to write photo in jpg format"
   ]
  },
  {
   "cell_type": "code",
   "execution_count": 96,
   "id": "2fffd28b",
   "metadata": {},
   "outputs": [],
   "source": [
    "cv2.imshow(\"my photo\",photo)#to show photo\n",
    "cv2.waitKey(10000)    #to hold it so bigger the value, longer it will hold\n",
    "cv2.destroyAllWindows()#photo window will be destroy automatically"
   ]
  },
  {
   "cell_type": "code",
   "execution_count": 51,
   "id": "6200f74a",
   "metadata": {},
   "outputs": [],
   "source": [
    "cap.release()#to switch off the camera"
   ]
  },
  {
   "cell_type": "code",
   "execution_count": 53,
   "id": "eea4831d",
   "metadata": {},
   "outputs": [
    {
     "data": {
      "text/plain": [
       "(480, 640, 3)"
      ]
     },
     "execution_count": 53,
     "metadata": {},
     "output_type": "execute_result"
    }
   ],
   "source": [
    "photo.shape"
   ]
  },
  {
   "cell_type": "code",
   "execution_count": 54,
   "id": "78a21917",
   "metadata": {},
   "outputs": [],
   "source": [
    "photo[0][0]=[0,255,0]#[0][0]is the pixel at 0,0 position,RGB color so only green"
   ]
  },
  {
   "cell_type": "code",
   "execution_count": 56,
   "id": "284db76f",
   "metadata": {},
   "outputs": [],
   "source": [
    "photo[10]=[0,255,0]#10th row will be colored by green"
   ]
  },
  {
   "cell_type": "code",
   "execution_count": 62,
   "id": "8f8bd7ab",
   "metadata": {},
   "outputs": [],
   "source": [
    "cphoto = photo[50:500,100:400]#to crop a photo"
   ]
  },
  {
   "cell_type": "code",
   "execution_count": 63,
   "id": "92f5f44e",
   "metadata": {},
   "outputs": [],
   "source": [
    "cv2.imshow(\"my photo\",cphoto)#to show photo\n",
    "cv2.waitKey(10000)    #to hold it so bigger the value, longer it will hold\n",
    "cv2.destroyAllWindows()#photo window will be destroyed automatically"
   ]
  },
  {
   "cell_type": "code",
   "execution_count": 100,
   "id": "ebae5bdb",
   "metadata": {},
   "outputs": [],
   "source": [
    "import numpy"
   ]
  },
  {
   "cell_type": "code",
   "execution_count": 103,
   "id": "20045daf",
   "metadata": {},
   "outputs": [],
   "source": [
    "photo=numpy.zeros((100,100))# ??????????"
   ]
  },
  {
   "cell_type": "code",
   "execution_count": 104,
   "id": "386a95b5",
   "metadata": {},
   "outputs": [],
   "source": [
    "cv2.imshow(\"my photo\",photo)#to show photo\n",
    "cv2.waitKey(10000)    #to hold it so bigger the value, longer it will hold\n",
    "cv2.destroyAllWindows()#"
   ]
  },
  {
   "cell_type": "code",
   "execution_count": 97,
   "id": "77d0f509",
   "metadata": {},
   "outputs": [],
   "source": [
    "gray=cv2.cvtColor(photo,cv2.COLOR_BGR2GRAY)#to convert the image into gray"
   ]
  },
  {
   "cell_type": "code",
   "execution_count": 98,
   "id": "88b423ee",
   "metadata": {},
   "outputs": [],
   "source": [
    "cv2.imshow(\"my photo\",gray)#to show gray photo\n",
    "cv2.waitKey(10000)    #to hold it so bigger the value, longer it will hold\n",
    "cv2.destroyAllWindows()#"
   ]
  }
 ],
 "metadata": {
  "kernelspec": {
   "display_name": "Python 3",
   "language": "python",
   "name": "python3"
  },
  "language_info": {
   "codemirror_mode": {
    "name": "ipython",
    "version": 3
   },
   "file_extension": ".py",
   "mimetype": "text/x-python",
   "name": "python",
   "nbconvert_exporter": "python",
   "pygments_lexer": "ipython3",
   "version": "3.8.8"
  }
 },
 "nbformat": 4,
 "nbformat_minor": 5
}
