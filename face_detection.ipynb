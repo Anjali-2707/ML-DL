{
 "cells": [
  {
   "cell_type": "code",
   "execution_count": null,
   "id": "bbd46d4e",
   "metadata": {},
   "outputs": [],
   "source": [
    "import cv2"
   ]
  },
  {
   "cell_type": "code",
   "execution_count": null,
   "id": "409ce483",
   "metadata": {},
   "outputs": [],
   "source": [
    "cap =cv2.VideoCapture(0)"
   ]
  },
  {
   "cell_type": "code",
   "execution_count": null,
   "id": "0e5e075d",
   "metadata": {},
   "outputs": [],
   "source": [
    "cap.read()"
   ]
  },
  {
   "cell_type": "code",
   "execution_count": null,
   "id": "0662b2b8",
   "metadata": {},
   "outputs": [],
   "source": [
    "ret,photo =cap.read()"
   ]
  },
  {
   "cell_type": "code",
   "execution_count": null,
   "id": "e0a04eec",
   "metadata": {},
   "outputs": [],
   "source": [
    "model = cv2.CascadeClassifier(cv2.data.haarcascades + 'haarcascade_frontalface_default.xml')"
   ]
  },
  {
   "cell_type": "code",
   "execution_count": null,
   "id": "03160bf2",
   "metadata": {},
   "outputs": [],
   "source": [
    "model"
   ]
  },
  {
   "cell_type": "code",
   "execution_count": null,
   "id": "97e36008",
   "metadata": {},
   "outputs": [],
   "source": [
    "faces=model.detectMultiScale(photo)"
   ]
  },
  {
   "cell_type": "code",
   "execution_count": null,
   "id": "84e94478",
   "metadata": {},
   "outputs": [],
   "source": [
    "faces# 1 array means only 1 face is detected"
   ]
  },
  {
   "cell_type": "code",
   "execution_count": null,
   "id": "d45e3cde",
   "metadata": {},
   "outputs": [],
   "source": [
    "len(faces)#no. of faces"
   ]
  },
  {
   "cell_type": "code",
   "execution_count": null,
   "id": "8b03cb61",
   "metadata": {},
   "outputs": [],
   "source": [
    "x1 = faces[0][0]"
   ]
  },
  {
   "cell_type": "code",
   "execution_count": null,
   "id": "716e6225",
   "metadata": {},
   "outputs": [],
   "source": [
    "y1 = faces[0][1]"
   ]
  },
  {
   "cell_type": "code",
   "execution_count": null,
   "id": "d947a031",
   "metadata": {},
   "outputs": [],
   "source": [
    "x2 = x1 + faces[0][2]"
   ]
  },
  {
   "cell_type": "code",
   "execution_count": null,
   "id": "474b4492",
   "metadata": {},
   "outputs": [],
   "source": [
    "y2 = y1 + faces[0][3]"
   ]
  },
  {
   "cell_type": "code",
   "execution_count": null,
   "id": "bc998b0e",
   "metadata": {},
   "outputs": [],
   "source": [
    "aphoto = cv2.rectangle(photo,(x1,y1),(x2,y2),(0,255,0),4)"
   ]
  },
  {
   "cell_type": "code",
   "execution_count": null,
   "id": "23331510",
   "metadata": {},
   "outputs": [],
   "source": [
    "cv2.imshow(\"hi\",aphoto)\n",
    "if     cv2.waitKey(5000)==13:\n",
    "    print(\"\")\n",
    "else:\n",
    "    print(\"\") \n",
    "cv2.destroyAllWindows()"
   ]
  },
  {
   "cell_type": "code",
   "execution_count": null,
   "id": "e90dc1f9",
   "metadata": {},
   "outputs": [],
   "source": [
    "cap.release()"
   ]
  }
 ],
 "metadata": {
  "kernelspec": {
   "display_name": "Python 3",
   "language": "python",
   "name": "python3"
  },
  "language_info": {
   "codemirror_mode": {
    "name": "ipython",
    "version": 3
   },
   "file_extension": ".py",
   "mimetype": "text/x-python",
   "name": "python",
   "nbconvert_exporter": "python",
   "pygments_lexer": "ipython3",
   "version": "3.8.8"
  }
 },
 "nbformat": 4,
 "nbformat_minor": 5
}
