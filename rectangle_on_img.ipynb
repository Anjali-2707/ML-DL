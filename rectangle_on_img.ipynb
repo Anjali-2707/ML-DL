{
 "cells": [
  {
   "cell_type": "code",
   "execution_count": 1,
   "id": "fe34e53a",
   "metadata": {},
   "outputs": [],
   "source": [
    "import cv2"
   ]
  },
  {
   "cell_type": "code",
   "execution_count": 32,
   "id": "02447ee1",
   "metadata": {},
   "outputs": [],
   "source": [
    "photo = cv2.imread(\"anjali.jpg.jpg\")"
   ]
  },
  {
   "cell_type": "code",
   "execution_count": 33,
   "id": "e3408a20",
   "metadata": {},
   "outputs": [
    {
     "data": {
      "text/plain": [
       "(1280, 853, 3)"
      ]
     },
     "execution_count": 33,
     "metadata": {},
     "output_type": "execute_result"
    }
   ],
   "source": [
    "photo.shape"
   ]
  },
  {
   "cell_type": "code",
   "execution_count": 34,
   "id": "0b007af3",
   "metadata": {},
   "outputs": [],
   "source": [
    "cv2.imshow(\"hi\",photo)\n",
    "cv2.waitKey(2000)\n",
    "cv2.destroyAllWindows()"
   ]
  },
  {
   "cell_type": "code",
   "execution_count": 35,
   "id": "78eb1499",
   "metadata": {},
   "outputs": [
    {
     "data": {
      "text/plain": [
       "array([[[161, 172, 170],\n",
       "        [171, 182, 180],\n",
       "        [189, 195, 194],\n",
       "        ...,\n",
       "        [244, 240, 239],\n",
       "        [244, 240, 239],\n",
       "        [244, 240, 239]],\n",
       "\n",
       "       [[165, 176, 174],\n",
       "        [177, 185, 184],\n",
       "        [192, 198, 197],\n",
       "        ...,\n",
       "        [244, 240, 239],\n",
       "        [244, 240, 239],\n",
       "        [244, 240, 239]],\n",
       "\n",
       "       [[172, 180, 179],\n",
       "        [181, 189, 188],\n",
       "        [194, 200, 199],\n",
       "        ...,\n",
       "        [244, 240, 239],\n",
       "        [244, 240, 239],\n",
       "        [244, 240, 239]],\n",
       "\n",
       "       ...,\n",
       "\n",
       "       [[123, 134, 162],\n",
       "        [122, 133, 161],\n",
       "        [120, 131, 159],\n",
       "        ...,\n",
       "        [103, 147, 140],\n",
       "        [100, 145, 136],\n",
       "        [100, 142, 135]],\n",
       "\n",
       "       [[124, 134, 164],\n",
       "        [123, 133, 163],\n",
       "        [120, 131, 159],\n",
       "        ...,\n",
       "        [102, 148, 142],\n",
       "        [100, 147, 139],\n",
       "        [ 99, 145, 139]],\n",
       "\n",
       "       [[125, 135, 165],\n",
       "        [123, 133, 163],\n",
       "        [121, 132, 160],\n",
       "        ...,\n",
       "        [ 99, 147, 141],\n",
       "        [ 98, 146, 140],\n",
       "        [ 96, 144, 138]]], dtype=uint8)"
      ]
     },
     "execution_count": 35,
     "metadata": {},
     "output_type": "execute_result"
    }
   ],
   "source": [
    "cv2.rectangle(photo, (200,25),(500,300),[0,0,255],4)"
   ]
  },
  {
   "cell_type": "code",
   "execution_count": 36,
   "id": "d5e1a491",
   "metadata": {},
   "outputs": [],
   "source": [
    "cv2.imshow(\"hi\",photo)\n",
    "cv2.waitKey(5000)\n",
    "cv2.destroyAllWindows()"
   ]
  },
  {
   "cell_type": "code",
   "execution_count": null,
   "id": "ac913f50",
   "metadata": {},
   "outputs": [],
   "source": []
  }
 ],
 "metadata": {
  "kernelspec": {
   "display_name": "Python 3",
   "language": "python",
   "name": "python3"
  },
  "language_info": {
   "codemirror_mode": {
    "name": "ipython",
    "version": 3
   },
   "file_extension": ".py",
   "mimetype": "text/x-python",
   "name": "python",
   "nbconvert_exporter": "python",
   "pygments_lexer": "ipython3",
   "version": "3.8.8"
  }
 },
 "nbformat": 4,
 "nbformat_minor": 5
}
