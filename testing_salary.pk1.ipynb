{
 "cells": [
  {
   "cell_type": "code",
   "execution_count": 1,
   "id": "33396d04",
   "metadata": {},
   "outputs": [],
   "source": [
    "import joblib"
   ]
  },
  {
   "cell_type": "code",
   "execution_count": 2,
   "id": "7d80530e",
   "metadata": {},
   "outputs": [],
   "source": [
    "mind = joblib.load(\"salary.pk1\")"
   ]
  },
  {
   "cell_type": "code",
   "execution_count": 3,
   "id": "e0f845d0",
   "metadata": {},
   "outputs": [
    {
     "data": {
      "text/plain": [
       "array([9449.96232146])"
      ]
     },
     "execution_count": 3,
     "metadata": {},
     "output_type": "execute_result"
    }
   ],
   "source": [
    "mind.coef_"
   ]
  },
  {
   "cell_type": "code",
   "execution_count": 6,
   "id": "301a0d9e",
   "metadata": {},
   "outputs": [
    {
     "data": {
      "text/plain": [
       "array([35242.16252012])"
      ]
     },
     "execution_count": 6,
     "metadata": {},
     "output_type": "execute_result"
    }
   ],
   "source": [
    "mind.predict([[1]])"
   ]
  },
  {
   "cell_type": "code",
   "execution_count": 5,
   "id": "33678633",
   "metadata": {},
   "outputs": [
    {
     "data": {
      "text/plain": [
       "25795"
      ]
     },
     "execution_count": 5,
     "metadata": {},
     "output_type": "execute_result"
    }
   ],
   "source": [
    "#constant in y=mx+c\n",
    "54142-9449*3"
   ]
  },
  {
   "cell_type": "code",
   "execution_count": null,
   "id": "36de0f8f",
   "metadata": {},
   "outputs": [],
   "source": []
  }
 ],
 "metadata": {
  "kernelspec": {
   "display_name": "Python 3",
   "language": "python",
   "name": "python3"
  },
  "language_info": {
   "codemirror_mode": {
    "name": "ipython",
    "version": 3
   },
   "file_extension": ".py",
   "mimetype": "text/x-python",
   "name": "python",
   "nbconvert_exporter": "python",
   "pygments_lexer": "ipython3",
   "version": "3.8.8"
  }
 },
 "nbformat": 4,
 "nbformat_minor": 5
}
